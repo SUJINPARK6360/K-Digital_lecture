{
 "cells": [
  {
   "cell_type": "code",
   "execution_count": 12,
   "metadata": {},
   "outputs": [
    {
     "data": {
      "text/plain": [
       "0.3333333333333333"
      ]
     },
     "execution_count": 12,
     "metadata": {},
     "output_type": "execute_result"
    }
   ],
   "source": [
    "def calc(operator, num1, num2):\n",
    "    ret = 0\n",
    "    if operator == \"+\":\n",
    "        ret = num1+num2\n",
    "    elif operator == \"-\":\n",
    "        ret = num1-num2\n",
    "    elif operator == \"*\":\n",
    "        ret = num1*num2\n",
    "    elif operator == \"/\":\n",
    "        ret = num1/num2\n",
    "    else: pass\n",
    "    return ret\n",
    "\n",
    "calc(\"/\",1,3)\n",
    "import pickle\n",
    "import os.path\n",
    "\n",
    "filename = \"scores.pkl\"\n",
    "\n",
    "if os.path.exists(filename):\n",
    "    with open(filename, \"rb\") as f:\n",
    "        scores = pickle.load(f)\n",
    "else:\n",
    "    scores = []\n",
    "\n",
    "\n",
    "while True:\n",
    "    menu = input(\"메뉴를 선택해주세요 1 - 입력, 2 - 조회, 3 - 삭제, 0 - 종료)\")\n",
    "    if menu == \"1\":\n",
    "        #입력\n",
    "        name = input(\"이름을 입력해주세요\")\n",
    "        math = input(\"수학점수를 입력해주세요\")\n",
    "        science = input(\"과학점수를 입력해주세요\")\n",
    "        english = input(\"영어점수를 입력해주세요\")    \n",
    "        #name, math, science, english = get_inputdata() \n",
    "        scores.append({\"이름\":name, \"수학\":math, \"과학\":science, \"영어\":english})\n",
    "        \n",
    "    elif menu == \"2\":\n",
    "        #조회\n",
    "        display_all(scores)\n",
    "            \n",
    "    elif menu == \"3\":\n",
    "        #삭제\n",
    "        display_all(scores)\n",
    "        \n",
    "        del_index = int(input(\"삭제할 번호를 입력해주세요 :\"))\n",
    "        scores.pop(del_index)\n",
    "        print(\"삭제가 완료되었습니다.\")\n",
    "        \n",
    "        \n",
    "    elif menu == \"0\":\n",
    "        #종료\n",
    "        #파일 저장\n",
    "        with open(filename, \"wb\") as f:\n",
    "            pickle.dump(scores, f)\n",
    "            \n",
    "        break\n",
    "\n",
    "scores"
   ]
  },
  {
   "cell_type": "markdown",
   "metadata": {},
   "source": [
    "#파일 입출력 실습02번"
   ]
  },
  {
   "cell_type": "code",
   "execution_count": 49,
   "metadata": {},
   "outputs": [
    {
     "name": "stdout",
     "output_type": "stream",
     "text": [
      "메뉴를 선택해주세요 1 - 입력, 2 - 조회, 3 - 삭제, 0 - 종료)2\n",
      "[0] 이름 : 박종현, 수학 : 30, 과학 : 40, 영어 : 50\n",
      "메뉴를 선택해주세요 1 - 입력, 2 - 조회, 3 - 삭제, 0 - 종료)1\n",
      "이름을 입력해주세요박수진\n",
      "수학점수를 입력해주세요50\n",
      "과학점수를 입력해주세요60\n",
      "영어점수를 입력해주세요70\n",
      "메뉴를 선택해주세요 1 - 입력, 2 - 조회, 3 - 삭제, 0 - 종료)3\n",
      "[0] 이름 : 박종현, 수학 : 30, 과학 : 40, 영어 : 50\n",
      "[1] 이름 : 박수진, 수학 : 50, 과학 : 60, 영어 : 70\n",
      "삭제할 번호를 입력해주세요 :0\n",
      "삭제가 완료되었습니다.\n",
      "메뉴를 선택해주세요 1 - 입력, 2 - 조회, 3 - 삭제, 0 - 종료)0\n"
     ]
    },
    {
     "data": {
      "text/plain": [
       "[{'이름': '박수진', '수학': '50', '과학': '60', '영어': '70'}]"
      ]
     },
     "execution_count": 49,
     "metadata": {},
     "output_type": "execute_result"
    }
   ],
   "source": [
    "  \n",
    "def get_inputdata():\n",
    "    name = input(\"이름 : \")\n",
    "    math = int(input(\"수학 : \"))\n",
    "    science = int(input(\"과학 : \"))\n",
    "    english = int(input(\"영어 : \"))\n",
    "    \n",
    "    return name, math, science, english\n",
    "\n",
    "def display_all(scores):\n",
    "    for i, user in enumerate(scores):\n",
    "        print(f'[{i}] 이름 : {user[\"이름\"]}, 수학 : {user[\"수학\"]}, 과학 : {user[\"과학\"]}, 영어 : {user[\"영어\"]}')\n",
    "        \n",
    "        \n",
    "        \n",
    "import pickle\n",
    "import os.path\n",
    "\n",
    "filename = \"scores.pkl\"\n",
    "\n",
    "if os.path.exists(filename):\n",
    "    with open(filename, \"rb\") as f:\n",
    "        scores = pickle.load(f)\n",
    "else:\n",
    "    scores = []\n",
    "\n",
    "\n",
    "while True:\n",
    "    menu = input(\"메뉴를 선택해주세요 1 - 입력, 2 - 조회, 3 - 삭제, 0 - 종료)\")\n",
    "    if menu == \"1\":\n",
    "        name = input(\"이름을 입력해주세요\")\n",
    "        math = input(\"수학점수를 입력해주세요\")\n",
    "        science = input(\"과학점수를 입력해주세요\")\n",
    "        english = input(\"영어점수를 입력해주세요\")    \n",
    "        scores.append({\"이름\":name, \"수학\":math, \"과학\":science, \"영어\":english})\n",
    "        \n",
    "    elif menu == \"2\":\n",
    "        display_all(scores)\n",
    "            \n",
    "    elif menu == \"3\":\n",
    "        display_all(scores)       \n",
    "        del_index = int(input(\"삭제할 번호를 입력해주세요 :\"))\n",
    "        scores.pop(del_index)\n",
    "        print(\"삭제가 완료되었습니다.\")\n",
    "         \n",
    "    elif menu == \"0\":\n",
    "        with open(filename, \"wb\") as f:\n",
    "            pickle.dump(scores, f)\n",
    "            \n",
    "        break\n",
    "\n",
    "scores"
   ]
  },
  {
   "cell_type": "markdown",
   "metadata": {},
   "source": [
    "#Exercise Question 1: Create a function that can accept two arguments name and age and print its value"
   ]
  },
  {
   "cell_type": "code",
   "execution_count": 16,
   "metadata": {},
   "outputs": [
    {
     "name": "stdout",
     "output_type": "stream",
     "text": [
      "name :박수진\n",
      "age :30\n",
      "박수진 30\n"
     ]
    }
   ],
   "source": [
    "def name_age():\n",
    "    a = input(\"name :\")\n",
    "    b = input(\"age :\")\n",
    "    print(a,b)\n",
    "\n",
    "name_age()"
   ]
  },
  {
   "cell_type": "markdown",
   "metadata": {},
   "source": [
    "#Exercise Question 2: Write a function func1() such that it can accept a variable length of  argument and print all arguments value"
   ]
  },
  {
   "cell_type": "code",
   "execution_count": 9,
   "metadata": {},
   "outputs": [
    {
     "name": "stdout",
     "output_type": "stream",
     "text": [
      "20\n",
      "40\n",
      "60\n",
      "80\n",
      "100\n"
     ]
    }
   ],
   "source": [
    "\n",
    "def func1(*a):\n",
    "    for i in a:\n",
    "        print(i)\n",
    "\n",
    "func1(20,40,60)\n",
    "\n",
    "func1(80,100)\n",
    "    "
   ]
  },
  {
   "cell_type": "markdown",
   "metadata": {},
   "source": [
    "#Exercise Question 3: Write a function calculation() such that it can accept two variables and calculate the addition and subtraction of it. And also it must return both addition and subtraction in a single return call"
   ]
  },
  {
   "cell_type": "code",
   "execution_count": 15,
   "metadata": {},
   "outputs": [
    {
     "name": "stdout",
     "output_type": "stream",
     "text": [
      "(50, 30)\n"
     ]
    }
   ],
   "source": [
    "\n",
    "def calculation(a, b):\n",
    "    return a+b, a-b\n",
    "    \n",
    "res = calculation(40, 10)\n",
    "print(res)"
   ]
  },
  {
   "cell_type": "markdown",
   "metadata": {},
   "source": [
    "#Exercise Question 4: Create a function showEmployee() in such a way that it should accept employee name, and it’s salary and display both, and if the salary is missing in function call it should show it as 9000"
   ]
  },
  {
   "cell_type": "code",
   "execution_count": 25,
   "metadata": {},
   "outputs": [
    {
     "name": "stdout",
     "output_type": "stream",
     "text": [
      "Employee Ben salary is: 9000\n",
      "Employee Ben salary is: 9000\n"
     ]
    }
   ],
   "source": [
    "\n",
    "def showEmployee(a,b=9000):\n",
    "    if b == \"\":\n",
    "        b = 9000\n",
    "    print(\"Employee\",a,\"salary is:\",b)\n",
    "\n",
    "showEmployee(\"Ben\", 9000)\n",
    "showEmployee(\"Ben\")"
   ]
  },
  {
   "cell_type": "markdown",
   "metadata": {},
   "source": [
    "#Exercise Question 5: Create an inner function to calculate the addition in the following way"
   ]
  },
  {
   "cell_type": "code",
   "execution_count": 26,
   "metadata": {},
   "outputs": [],
   "source": [
    "\n",
    "#Create an outer function that will accept two parameters a and b\n",
    "#Create an inner function inside an outer function that will calculate the addition of a and b\n",
    "#At last, an outer function will add 5 into addition and return it\n",
    "\n",
    "def add(a,b):\n",
    "    c = a+b\n",
    "    c += 5\n",
    "    return c\n",
    "\n"
   ]
  },
  {
   "cell_type": "markdown",
   "metadata": {},
   "source": [
    "#Exercise Question 6: Write a recursive function to calculate the sum of numbers from 0 to 10"
   ]
  },
  {
   "cell_type": "code",
   "execution_count": 27,
   "metadata": {},
   "outputs": [
    {
     "data": {
      "text/plain": [
       "55"
      ]
     },
     "execution_count": 27,
     "metadata": {},
     "output_type": "execute_result"
    }
   ],
   "source": [
    "\n",
    "def sum():\n",
    "    sum = 0\n",
    "    for i in range(11):\n",
    "        sum += i\n",
    "    return sum\n",
    "\n",
    "sum()"
   ]
  },
  {
   "cell_type": "markdown",
   "metadata": {},
   "source": [
    "#Exercise Question 7: Assign a different name to function and call it through the new name"
   ]
  },
  {
   "cell_type": "code",
   "execution_count": 32,
   "metadata": {},
   "outputs": [
    {
     "name": "stdout",
     "output_type": "stream",
     "text": [
      "Emma 26\n",
      "Emma 26\n"
     ]
    }
   ],
   "source": [
    "#Below is the function displayStudent(name, age). Assign a new name showStudent(name, age)  to it and call through the new name\n",
    "\n",
    "def displayStudent(name, age):\n",
    "    print(name, age)\n",
    "\n",
    "displayStudent(\"Emma\", 26)\n",
    "\n",
    "showStudent = displayStudent\n",
    "\n",
    "displayStudent(\"Emma\", 26)"
   ]
  },
  {
   "cell_type": "markdown",
   "metadata": {},
   "source": [
    "#Exercise Question 8: Generate a Python list of all the even numbers between 4 to 30"
   ]
  },
  {
   "cell_type": "code",
   "execution_count": 40,
   "metadata": {},
   "outputs": [
    {
     "name": "stdout",
     "output_type": "stream",
     "text": [
      "[4, 6, 8, 10, 12, 14, 16, 18, 20, 22, 24, 26, 28]\n"
     ]
    }
   ],
   "source": [
    "print(list(range(4,30,2)))"
   ]
  },
  {
   "cell_type": "markdown",
   "metadata": {},
   "source": [
    "#Exercise Question 9: Return the largest item from the given list"
   ]
  },
  {
   "cell_type": "code",
   "execution_count": 43,
   "metadata": {},
   "outputs": [
    {
     "data": {
      "text/plain": [
       "24"
      ]
     },
     "execution_count": 43,
     "metadata": {},
     "output_type": "execute_result"
    }
   ],
   "source": [
    "aList = [4, 6, 8, 24, 12, 2]\n",
    "\n",
    "aList.sort()\n",
    "aList[-1]"
   ]
  },
  {
   "cell_type": "code",
   "execution_count": null,
   "metadata": {},
   "outputs": [],
   "source": []
  }
 ],
 "metadata": {
  "kernelspec": {
   "display_name": "Python 3",
   "language": "python",
   "name": "python3"
  },
  "language_info": {
   "codemirror_mode": {
    "name": "ipython",
    "version": 3
   },
   "file_extension": ".py",
   "mimetype": "text/x-python",
   "name": "python",
   "nbconvert_exporter": "python",
   "pygments_lexer": "ipython3",
   "version": "3.8.5"
  }
 },
 "nbformat": 4,
 "nbformat_minor": 4
}
