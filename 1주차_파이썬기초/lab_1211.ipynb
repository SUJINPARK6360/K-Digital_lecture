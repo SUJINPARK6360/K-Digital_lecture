{
 "cells": [
  {
   "cell_type": "markdown",
   "metadata": {},
   "source": [
    "### 16장 실습02"
   ]
  },
  {
   "cell_type": "code",
   "execution_count": 430,
   "metadata": {},
   "outputs": [
    {
     "name": "stdout",
     "output_type": "stream",
     "text": [
      "[[0], {'이름': '이민호', '수학': 40, '과학': 50, '영어': 30}]\n"
     ]
    }
   ],
   "source": [
    "import pickle\n",
    "\n",
    "index = 0\n",
    "scores = []\n",
    "scores.append([index])\n",
    "scores.append({\"이름\":\"이민호\",\"수학\":40,\"과학\":50,\"영어\":30})\n",
    "\n",
    "with open(\"data.pkl\", \"wb\") as file:\n",
    "    pickle.dump(index,file)\n",
    "    pickle.dump(scores,file)\n",
    "\n",
    "print(scores)"
   ]
  },
  {
   "cell_type": "code",
   "execution_count": 431,
   "metadata": {
    "scrolled": true
   },
   "outputs": [
    {
     "name": "stdout",
     "output_type": "stream",
     "text": [
      "메뉴를 선택해주세요 1 - 입력, 2 - 조회, 3 - 삭제, 0 - 종료): 1\n",
      "이름 : 이정범\n",
      "수학 : 30\n",
      "과학 : 40\n",
      "영어 : 50\n"
     ]
    }
   ],
   "source": [
    "import pickle\n",
    "\n",
    "with open(\"data.pkl\", \"rb\") as file:\n",
    "    index = pickle.load(file)\n",
    "    scores = pickle.load(file)\n",
    "\n",
    "menu = input(\"메뉴를 선택해주세요 1 - 입력, 2 - 조회, 3 - 삭제, 0 - 종료): \")\n",
    "\n",
    "if menu == \"1\":\n",
    "    with open(\"data.pkl\", \"rb\") as file:\n",
    "        index = pickle.load(file)\n",
    "        scores = pickle.load(file)\n",
    "    index += 1\n",
    "    name = input(\"이름 : \")\n",
    "    math = int(input(\"수학 : \"))\n",
    "    sci = int(input(\"과학 : \"))\n",
    "    eng = int(input(\"영어 : \"))\n",
    "    scores.append([index])\n",
    "    scores.append({\"이름\":name,\"수학\":math,\"과학\":sci,\"영어\":eng})\n",
    "    with open(\"data.pkl\", \"wb\") as file:\n",
    "        pickle.dump(index,file)\n",
    "        pickle.dump(scores,file)\n",
    "elif menu == \"2\":\n",
    "    print(scores)\n",
    "elif menu == \"3\":\n",
    "    with open(\"data.pkl\", \"rb\") as file:\n",
    "        index = pickle.load(file)\n",
    "        scores = pickle.load(file)\n",
    "    print(scores)\n",
    "    del_no = int(input(\"삭제할 번호를 입력해주세요 :\"))\n",
    "    del_index = scores.index([del_no])\n",
    "    del scores[del_index]\n",
    "    del scores[del_index]\n",
    "    print(\"삭제가 완료되었습니다\")\n",
    "    with open(\"data.pkl\", \"wb\") as file:\n",
    "        pickle.dump(index,file)\n",
    "        pickle.dump(scores,file)\n",
    "elif menu == \"0\":\n",
    "    print(\"종료되었습니다\")\n"
   ]
  },
  {
   "cell_type": "code",
   "execution_count": 432,
   "metadata": {},
   "outputs": [
    {
     "name": "stdout",
     "output_type": "stream",
     "text": [
      "메뉴를 선택해주세요 1 - 입력, 2 - 조회, 3 - 삭제, 0 - 종료): 2\n",
      "[[0], {'이름': '이민호', '수학': 40, '과학': 50, '영어': 30}, [1], {'이름': '이정범', '수학': 30, '과학': 40, '영어': 50}]\n"
     ]
    }
   ],
   "source": [
    "import pickle\n",
    "\n",
    "with open(\"data.pkl\", \"rb\") as file:\n",
    "    index = pickle.load(file)\n",
    "    scores = pickle.load(file)\n",
    "\n",
    "menu = input(\"메뉴를 선택해주세요 1 - 입력, 2 - 조회, 3 - 삭제, 0 - 종료): \")\n",
    "\n",
    "if menu == \"1\":\n",
    "    with open(\"data.pkl\", \"rb\") as file:\n",
    "        index = pickle.load(file)\n",
    "        scores = pickle.load(file)\n",
    "    index += 1\n",
    "    name = input(\"이름 : \")\n",
    "    math = int(input(\"수학 : \"))\n",
    "    sci = int(input(\"과학 : \"))\n",
    "    eng = int(input(\"영어 : \"))\n",
    "    scores.append([index])\n",
    "    scores.append({\"이름\":name,\"수학\":math,\"과학\":sci,\"영어\":eng})\n",
    "    with open(\"data.pkl\", \"wb\") as file:\n",
    "        pickle.dump(index,file)\n",
    "        pickle.dump(scores,file)\n",
    "elif menu == \"2\":\n",
    "    print(scores)\n",
    "elif menu == \"3\":\n",
    "    with open(\"data.pkl\", \"rb\") as file:\n",
    "        index = pickle.load(file)\n",
    "        scores = pickle.load(file)\n",
    "    print(scores)\n",
    "    del_no = int(input(\"삭제할 번호를 입력해주세요 :\"))\n",
    "    del_index = scores.index([del_no])\n",
    "    del scores[del_index]\n",
    "    del scores[del_index]\n",
    "    print(\"삭제가 완료되었습니다\")\n",
    "    with open(\"data.pkl\", \"wb\") as file:\n",
    "        pickle.dump(index,file)\n",
    "        pickle.dump(scores,file)\n",
    "elif menu == \"0\":\n",
    "    print(\"종료되었습니다\")\n"
   ]
  },
  {
   "cell_type": "code",
   "execution_count": 433,
   "metadata": {},
   "outputs": [
    {
     "name": "stdout",
     "output_type": "stream",
     "text": [
      "메뉴를 선택해주세요 1 - 입력, 2 - 조회, 3 - 삭제, 0 - 종료): 3\n",
      "[[0], {'이름': '이민호', '수학': 40, '과학': 50, '영어': 30}, [1], {'이름': '이정범', '수학': 30, '과학': 40, '영어': 50}]\n",
      "삭제할 번호를 입력해주세요 :0\n",
      "삭제가 완료되었습니다\n"
     ]
    }
   ],
   "source": [
    "import pickle\n",
    "\n",
    "with open(\"data.pkl\", \"rb\") as file:\n",
    "    index = pickle.load(file)\n",
    "    scores = pickle.load(file)\n",
    "\n",
    "menu = input(\"메뉴를 선택해주세요 1 - 입력, 2 - 조회, 3 - 삭제, 0 - 종료): \")\n",
    "\n",
    "if menu == \"1\":\n",
    "    with open(\"data.pkl\", \"rb\") as file:\n",
    "        index = pickle.load(file)\n",
    "        scores = pickle.load(file)\n",
    "    index += 1\n",
    "    name = input(\"이름 : \")\n",
    "    math = int(input(\"수학 : \"))\n",
    "    sci = int(input(\"과학 : \"))\n",
    "    eng = int(input(\"영어 : \"))\n",
    "    scores.append([index])\n",
    "    scores.append({\"이름\":name,\"수학\":math,\"과학\":sci,\"영어\":eng})\n",
    "    with open(\"data.pkl\", \"wb\") as file:\n",
    "        pickle.dump(index,file)\n",
    "        pickle.dump(scores,file)\n",
    "elif menu == \"2\":\n",
    "    print(scores)\n",
    "elif menu == \"3\":\n",
    "    with open(\"data.pkl\", \"rb\") as file:\n",
    "        index = pickle.load(file)\n",
    "        scores = pickle.load(file)\n",
    "    print(scores)\n",
    "    del_no = int(input(\"삭제할 번호를 입력해주세요 :\"))\n",
    "    del_index = scores.index([del_no])\n",
    "    del scores[del_index]\n",
    "    del scores[del_index]\n",
    "    print(\"삭제가 완료되었습니다\")\n",
    "    with open(\"data.pkl\", \"wb\") as file:\n",
    "        pickle.dump(index,file)\n",
    "        pickle.dump(scores,file)\n",
    "elif menu == \"0\":\n",
    "    print(\"종료되었습니다\")\n"
   ]
  },
  {
   "cell_type": "code",
   "execution_count": 434,
   "metadata": {},
   "outputs": [
    {
     "name": "stdout",
     "output_type": "stream",
     "text": [
      "메뉴를 선택해주세요 1 - 입력, 2 - 조회, 3 - 삭제, 0 - 종료): 0\n",
      "종료되었습니다\n"
     ]
    }
   ],
   "source": [
    "import pickle\n",
    "\n",
    "with open(\"data.pkl\", \"rb\") as file:\n",
    "    index = pickle.load(file)\n",
    "    scores = pickle.load(file)\n",
    "\n",
    "menu = input(\"메뉴를 선택해주세요 1 - 입력, 2 - 조회, 3 - 삭제, 0 - 종료): \")\n",
    "\n",
    "if menu == \"1\":\n",
    "    with open(\"data.pkl\", \"rb\") as file:\n",
    "        index = pickle.load(file)\n",
    "        scores = pickle.load(file)\n",
    "    index += 1\n",
    "    name = input(\"이름 : \")\n",
    "    math = int(input(\"수학 : \"))\n",
    "    sci = int(input(\"과학 : \"))\n",
    "    eng = int(input(\"영어 : \"))\n",
    "    scores.append([index])\n",
    "    scores.append({\"이름\":name,\"수학\":math,\"과학\":sci,\"영어\":eng})\n",
    "    with open(\"data.pkl\", \"wb\") as file:\n",
    "        pickle.dump(index,file)\n",
    "        pickle.dump(scores,file)\n",
    "elif menu == \"2\":\n",
    "    print(scores)\n",
    "elif menu == \"3\":\n",
    "    with open(\"data.pkl\", \"rb\") as file:\n",
    "        index = pickle.load(file)\n",
    "        scores = pickle.load(file)\n",
    "    print(scores)\n",
    "    del_no = int(input(\"삭제할 번호를 입력해주세요 :\"))\n",
    "    del_index = scores.index([del_no])\n",
    "    del scores[del_index]\n",
    "    del scores[del_index]\n",
    "    print(\"삭제가 완료되었습니다\")\n",
    "    with open(\"data.pkl\", \"wb\") as file:\n",
    "        pickle.dump(index,file)\n",
    "        pickle.dump(scores,file)\n",
    "elif menu == \"0\":\n",
    "    print(\"종료되었습니다\")\n"
   ]
  },
  {
   "cell_type": "markdown",
   "metadata": {},
   "source": [
    "### 16장 실습 02 : enumerate 사용한 코드"
   ]
  },
  {
   "cell_type": "code",
   "execution_count": 10,
   "metadata": {},
   "outputs": [
    {
     "ename": "TypeError",
     "evalue": "'_io.BufferedReader' object is not subscriptable",
     "output_type": "error",
     "traceback": [
      "\u001b[1;31m---------------------------------------------------------------------------\u001b[0m",
      "\u001b[1;31mTypeError\u001b[0m                                 Traceback (most recent call last)",
      "\u001b[1;32m<ipython-input-10-4dd0ea2a7a7c>\u001b[0m in \u001b[0;36m<module>\u001b[1;34m\u001b[0m\n\u001b[0;32m     11\u001b[0m \u001b[1;33m\u001b[0m\u001b[0m\n\u001b[0;32m     12\u001b[0m \u001b[1;32mfor\u001b[0m \u001b[0mi\u001b[0m\u001b[1;33m,\u001b[0m\u001b[0mj\u001b[0m \u001b[1;32min\u001b[0m \u001b[0menumerate\u001b[0m\u001b[1;33m(\u001b[0m\u001b[0mscores2\u001b[0m\u001b[1;33m)\u001b[0m\u001b[1;33m:\u001b[0m\u001b[1;33m\u001b[0m\u001b[1;33m\u001b[0m\u001b[0m\n\u001b[1;32m---> 13\u001b[1;33m     \u001b[0mprint\u001b[0m\u001b[1;33m(\u001b[0m\u001b[0mi\u001b[0m\u001b[1;33m,\u001b[0m\u001b[1;34m\"이름 : \"\u001b[0m\u001b[1;33m,\u001b[0m\u001b[0mfile\u001b[0m\u001b[1;33m[\u001b[0m\u001b[1;34m\"이름\"\u001b[0m\u001b[1;33m]\u001b[0m\u001b[1;33m)\u001b[0m\u001b[1;33m\u001b[0m\u001b[1;33m\u001b[0m\u001b[0m\n\u001b[0m",
      "\u001b[1;31mTypeError\u001b[0m: '_io.BufferedReader' object is not subscriptable"
     ]
    }
   ],
   "source": [
    "import pickle\n",
    "\n",
    "scores2 = []\n",
    "scores2.append({\"이름\":\"이민호\",\"수학\":40,\"과학\":50,\"영어\":30})\n",
    "\n",
    "with open(\"data2.pkl\", \"wb\") as file:\n",
    "    pickle.dump(scores2,file)\n",
    "\n",
    "with open(\"data2.pkl\", \"rb\") as file:\n",
    "    scores2 = pickle.load(file)\n",
    "    \n",
    "for i,j in enumerate(scores2):\n",
    "    print(i,\"이름 : \",file[\"이름\"])"
   ]
  },
  {
   "cell_type": "code",
   "execution_count": 2,
   "metadata": {},
   "outputs": [
    {
     "name": "stdout",
     "output_type": "stream",
     "text": [
      "메뉴를 선택해주세요 1 - 입력, 2 - 조회, 3 - 삭제, 0 - 종료): 1\n",
      "이름 : 이정범\n",
      "수학 : 30\n",
      "과학 : 40\n",
      "영어 : 50\n"
     ]
    }
   ],
   "source": [
    "import pickle\n",
    "\n",
    "with open(\"data2.pkl\", \"rb\") as file:\n",
    "    scores2 = pickle.load(file)\n",
    "\n",
    "menu = input(\"메뉴를 선택해주세요 1 - 입력, 2 - 조회, 3 - 삭제, 0 - 종료): \")\n",
    "\n",
    "if menu == \"1\":\n",
    "    name = input(\"이름 : \")\n",
    "    math = int(input(\"수학 : \"))\n",
    "    sci = int(input(\"과학 : \"))\n",
    "    eng = int(input(\"영어 : \"))\n",
    "    scores2.append({\"이름\":name,\"수학\":math,\"과학\":sci,\"영어\":eng})\n",
    "    with open(\"data2.pkl\", \"wb\") as file:\n",
    "        pickle.dump(scores2,file)\n",
    "elif menu == \"2\":\n",
    "    for i, scores2 in enumerate(scores2):\n",
    "        print(\"[\",i,\"]\",scores2)\n",
    "elif menu == \"3\":\n",
    "    for i, scores2 in enumerate(scores2):\n",
    "        print(\"[\",i,\"]\",scores2)\n",
    "    del_no = int(input(\"삭제할 번호를 입력해주세요 :\"))\n",
    "    del scores2[del_no]\n",
    "    print(\"삭제가 완료되었습니다\")\n",
    "    with open(\"data2.pkl\", \"wb\") as file:\n",
    "        pickle.dump(scores2,file)\n",
    "elif menu == \"0\":\n",
    "    print(\"종료되었습니다\")\n",
    "\n"
   ]
  },
  {
   "cell_type": "code",
   "execution_count": 3,
   "metadata": {},
   "outputs": [
    {
     "name": "stdout",
     "output_type": "stream",
     "text": [
      "메뉴를 선택해주세요 1 - 입력, 2 - 조회, 3 - 삭제, 0 - 종료): 2\n",
      "[ 0 ] {'이름': '이민호', '수학': 40, '과학': 50, '영어': 30}\n",
      "[ 1 ] {'이름': '이정범', '수학': 30, '과학': 40, '영어': 50}\n"
     ]
    }
   ],
   "source": [
    "import pickle\n",
    "\n",
    "with open(\"data2.pkl\", \"rb\") as file:\n",
    "    scores2 = pickle.load(file)\n",
    "\n",
    "menu = input(\"메뉴를 선택해주세요 1 - 입력, 2 - 조회, 3 - 삭제, 0 - 종료): \")\n",
    "\n",
    "if menu == \"1\":\n",
    "    name = input(\"이름 : \")\n",
    "    math = int(input(\"수학 : \"))\n",
    "    sci = int(input(\"과학 : \"))\n",
    "    eng = int(input(\"영어 : \"))\n",
    "    scores2.append({\"이름\":name,\"수학\":math,\"과학\":sci,\"영어\":eng})\n",
    "    with open(\"data2.pkl\", \"wb\") as file:\n",
    "        pickle.dump(scores2,file)\n",
    "elif menu == \"2\":\n",
    "    for i, scores2 in enumerate(scores2):\n",
    "        print(\"[\",i,\"]\",scores2)\n",
    "elif menu == \"3\":\n",
    "    for i, scores2 in enumerate(scores2):\n",
    "        print(\"[\",i,\"]\",scores2)\n",
    "    del_no = int(input(\"삭제할 번호를 입력해주세요 :\"))\n",
    "    del scores2[del_no]\n",
    "    print(\"삭제가 완료되었습니다\")\n",
    "    with open(\"data2.pkl\", \"wb\") as file:\n",
    "        pickle.dump(scores2,file)\n",
    "elif menu == \"0\":\n",
    "    print(\"종료되었습니다\")\n",
    "\n"
   ]
  },
  {
   "cell_type": "code",
   "execution_count": 8,
   "metadata": {},
   "outputs": [
    {
     "name": "stdout",
     "output_type": "stream",
     "text": [
      "메뉴를 선택해주세요 1 - 입력, 2 - 조회, 3 - 삭제, 0 - 종료): 3\n",
      "[ 0 ] {'이름': '이민호', '수학': 40, '과학': 50, '영어': 30}\n",
      "[ 1 ] {'이름': '이정범', '수학': 30, '과학': 40, '영어': 50}\n",
      "삭제할 번호를 입력해주세요 :0\n",
      "{'이름': '이정범', '수학': 30, '과학': 40, '영어': 50}\n"
     ]
    },
    {
     "ename": "KeyError",
     "evalue": "0",
     "output_type": "error",
     "traceback": [
      "\u001b[1;31m---------------------------------------------------------------------------\u001b[0m",
      "\u001b[1;31mKeyError\u001b[0m                                  Traceback (most recent call last)",
      "\u001b[1;32m<ipython-input-8-d0e8f7cc9749>\u001b[0m in \u001b[0;36m<module>\u001b[1;34m\u001b[0m\n\u001b[0;32m     22\u001b[0m     \u001b[0mdel_no\u001b[0m \u001b[1;33m=\u001b[0m \u001b[0mint\u001b[0m\u001b[1;33m(\u001b[0m\u001b[0minput\u001b[0m\u001b[1;33m(\u001b[0m\u001b[1;34m\"삭제할 번호를 입력해주세요 :\"\u001b[0m\u001b[1;33m)\u001b[0m\u001b[1;33m)\u001b[0m\u001b[1;33m\u001b[0m\u001b[1;33m\u001b[0m\u001b[0m\n\u001b[0;32m     23\u001b[0m     \u001b[0mprint\u001b[0m\u001b[1;33m(\u001b[0m\u001b[0mscores2\u001b[0m\u001b[1;33m)\u001b[0m\u001b[1;33m\u001b[0m\u001b[1;33m\u001b[0m\u001b[0m\n\u001b[1;32m---> 24\u001b[1;33m     \u001b[1;32mdel\u001b[0m \u001b[0mscores2\u001b[0m\u001b[1;33m[\u001b[0m\u001b[0mdel_no\u001b[0m\u001b[1;33m]\u001b[0m\u001b[1;33m\u001b[0m\u001b[1;33m\u001b[0m\u001b[0m\n\u001b[0m\u001b[0;32m     25\u001b[0m     \u001b[0mprint\u001b[0m\u001b[1;33m(\u001b[0m\u001b[0mscores2\u001b[0m\u001b[1;33m)\u001b[0m\u001b[1;33m\u001b[0m\u001b[1;33m\u001b[0m\u001b[0m\n\u001b[0;32m     26\u001b[0m     \u001b[0mprint\u001b[0m\u001b[1;33m(\u001b[0m\u001b[1;34m\"삭제가 완료되었습니다\"\u001b[0m\u001b[1;33m)\u001b[0m\u001b[1;33m\u001b[0m\u001b[1;33m\u001b[0m\u001b[0m\n",
      "\u001b[1;31mKeyError\u001b[0m: 0"
     ]
    }
   ],
   "source": [
    "import pickle\n",
    "\n",
    "with open(\"data2.pkl\", \"rb\") as file:\n",
    "    scores2 = pickle.load(file)\n",
    "\n",
    "menu = input(\"메뉴를 선택해주세요 1 - 입력, 2 - 조회, 3 - 삭제, 0 - 종료): \")\n",
    "\n",
    "if menu == \"1\":\n",
    "    name = input(\"이름 : \")\n",
    "    math = int(input(\"수학 : \"))\n",
    "    sci = int(input(\"과학 : \"))\n",
    "    eng = int(input(\"영어 : \"))\n",
    "    scores2.append({\"이름\":name,\"수학\":math,\"과학\":sci,\"영어\":eng})\n",
    "    with open(\"data2.pkl\", \"wb\") as file:\n",
    "        pickle.dump(scores2,file)\n",
    "elif menu == \"2\":\n",
    "    for i, scores2 in enumerate(scores2):\n",
    "        print(\"[\",i,\"]\",scores2)\n",
    "elif menu == \"3\":\n",
    "    for i, scores2 in enumerate(scores2):\n",
    "        print(\"[\",i,\"]\",scores2)\n",
    "    del_no = int(input(\"삭제할 번호를 입력해주세요 :\"))\n",
    "    print(scores2)\n",
    "    del scores2[del_no]\n",
    "    print(scores2)\n",
    "    print(\"삭제가 완료되었습니다\")\n",
    "    with open(\"data2.pkl\", \"wb\") as file:\n",
    "        pickle.dump(scores2,file)\n",
    "elif menu == \"0\":\n",
    "    print(\"종료되었습니다\")\n",
    "\n"
   ]
  },
  {
   "cell_type": "markdown",
   "metadata": {},
   "source": [
    "### "
   ]
  },
  {
   "cell_type": "code",
   "execution_count": null,
   "metadata": {},
   "outputs": [],
   "source": []
  }
 ],
 "metadata": {
  "kernelspec": {
   "display_name": "Python 3",
   "language": "python",
   "name": "python3"
  },
  "language_info": {
   "codemirror_mode": {
    "name": "ipython",
    "version": 3
   },
   "file_extension": ".py",
   "mimetype": "text/x-python",
   "name": "python",
   "nbconvert_exporter": "python",
   "pygments_lexer": "ipython3",
   "version": "3.8.5"
  }
 },
 "nbformat": 4,
 "nbformat_minor": 4
}
